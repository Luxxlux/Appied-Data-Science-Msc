{
 "cells": [
  {
   "cell_type": "markdown",
   "id": "d718a4e5",
   "metadata": {},
   "source": [
    "Introduction to Python"
   ]
  },
  {
   "cell_type": "code",
   "execution_count": 1,
   "id": "453147e8",
   "metadata": {},
   "outputs": [
    {
     "name": "stdout",
     "output_type": "stream",
     "text": [
      "Hello, World!\n"
     ]
    }
   ],
   "source": [
    "print('Hello, World!')"
   ]
  },
  {
   "cell_type": "markdown",
   "id": "e535f192",
   "metadata": {},
   "source": [
    "Data Types"
   ]
  },
  {
   "cell_type": "code",
   "execution_count": 2,
   "id": "4c7ea8c9",
   "metadata": {},
   "outputs": [
    {
     "name": "stdout",
     "output_type": "stream",
     "text": [
      "['This', 'is', 'a', 'list']\n"
     ]
    }
   ],
   "source": [
    "# list\n",
    "print(['This','is','a','list'])"
   ]
  },
  {
   "cell_type": "code",
   "execution_count": 3,
   "id": "2465f0ec",
   "metadata": {},
   "outputs": [
    {
     "name": "stdout",
     "output_type": "stream",
     "text": [
      "{'Lecturer': 'Angelica', 'Year': 2024}\n"
     ]
    }
   ],
   "source": [
    "# dictionary\n",
    "print({'Lecturer': 'Angelica',\n",
    "       'Year': 2024})"
   ]
  },
  {
   "cell_type": "code",
   "execution_count": 4,
   "id": "48127acb",
   "metadata": {},
   "outputs": [
    {
     "name": "stdout",
     "output_type": "stream",
     "text": [
      "True\n"
     ]
    }
   ],
   "source": [
    "# bool\n",
    "print(True)"
   ]
  },
  {
   "cell_type": "code",
   "execution_count": 5,
   "id": "2ff339fa",
   "metadata": {},
   "outputs": [
    {
     "name": "stdout",
     "output_type": "stream",
     "text": [
      "False\n"
     ]
    }
   ],
   "source": [
    "# bool\n",
    "print(False)"
   ]
  },
  {
   "cell_type": "code",
   "execution_count": 6,
   "id": "c5a944a4",
   "metadata": {},
   "outputs": [
    {
     "name": "stdout",
     "output_type": "stream",
     "text": [
      "12345.66\n"
     ]
    }
   ],
   "source": [
    "# float\n",
    "print(12345.66)"
   ]
  },
  {
   "cell_type": "markdown",
   "id": "6bcbac77",
   "metadata": {},
   "source": [
    "Mathematical Operations"
   ]
  },
  {
   "cell_type": "code",
   "execution_count": 7,
   "id": "4a37a1b8",
   "metadata": {},
   "outputs": [
    {
     "data": {
      "text/plain": [
       "3"
      ]
     },
     "execution_count": 7,
     "metadata": {},
     "output_type": "execute_result"
    }
   ],
   "source": [
    "1+2"
   ]
  },
  {
   "cell_type": "code",
   "execution_count": 8,
   "id": "2b254195",
   "metadata": {},
   "outputs": [
    {
     "data": {
      "text/plain": [
       "'My name is Laimis'"
      ]
     },
     "execution_count": 8,
     "metadata": {},
     "output_type": "execute_result"
    }
   ],
   "source": [
    "\"My name\" + ' is Laimis'"
   ]
  },
  {
   "cell_type": "code",
   "execution_count": 9,
   "id": "a3413fc4",
   "metadata": {},
   "outputs": [
    {
     "data": {
      "text/plain": [
       "'LaimisLaimisLaimis'"
      ]
     },
     "execution_count": 9,
     "metadata": {},
     "output_type": "execute_result"
    }
   ],
   "source": [
    "'Laimis' * 3"
   ]
  },
  {
   "cell_type": "markdown",
   "id": "6bf969b5",
   "metadata": {},
   "source": [
    "Variables"
   ]
  },
  {
   "cell_type": "code",
   "execution_count": 10,
   "id": "29a48945",
   "metadata": {},
   "outputs": [],
   "source": [
    "my_int = 42"
   ]
  },
  {
   "cell_type": "code",
   "execution_count": 11,
   "id": "4faea321",
   "metadata": {},
   "outputs": [
    {
     "data": {
      "text/plain": [
       "42"
      ]
     },
     "execution_count": 11,
     "metadata": {},
     "output_type": "execute_result"
    }
   ],
   "source": [
    "my_int"
   ]
  },
  {
   "cell_type": "code",
   "execution_count": 12,
   "id": "5c648beb",
   "metadata": {},
   "outputs": [],
   "source": [
    "my_string = 'Laimis Lisauskas'"
   ]
  },
  {
   "cell_type": "code",
   "execution_count": 13,
   "id": "57e26198",
   "metadata": {},
   "outputs": [
    {
     "data": {
      "text/plain": [
       "'Laimis Lisauskas'"
      ]
     },
     "execution_count": 13,
     "metadata": {},
     "output_type": "execute_result"
    }
   ],
   "source": [
    "my_string"
   ]
  },
  {
   "cell_type": "markdown",
   "id": "9a07fc0b",
   "metadata": {},
   "source": [
    "Operations on Variables"
   ]
  },
  {
   "cell_type": "code",
   "execution_count": 14,
   "id": "142cda02",
   "metadata": {},
   "outputs": [],
   "source": [
    "my_float_1 = 12.4"
   ]
  },
  {
   "cell_type": "code",
   "execution_count": 15,
   "id": "62c2eb9a",
   "metadata": {},
   "outputs": [],
   "source": [
    "my_float_2 = 56.2"
   ]
  },
  {
   "cell_type": "code",
   "execution_count": 16,
   "id": "02c0775a",
   "metadata": {},
   "outputs": [
    {
     "data": {
      "text/plain": [
       "68.60000000000001"
      ]
     },
     "execution_count": 16,
     "metadata": {},
     "output_type": "execute_result"
    }
   ],
   "source": [
    "my_float_3 = my_float_1 + my_float_2\n",
    "my_float_3"
   ]
  },
  {
   "cell_type": "code",
   "execution_count": 17,
   "id": "52dec4c4",
   "metadata": {},
   "outputs": [
    {
     "data": {
      "text/plain": [
       "'Laimis Lisauskas'"
      ]
     },
     "execution_count": 17,
     "metadata": {},
     "output_type": "execute_result"
    }
   ],
   "source": [
    "my_forname = 'Laimis'\n",
    "my_surname = 'Lisauskas'\n",
    "\n",
    "my_full_name = my_forname + ' ' + my_surname\n",
    "my_full_name"
   ]
  },
  {
   "cell_type": "markdown",
   "id": "73837b65",
   "metadata": {},
   "source": [
    "Augmented Assignment Operations"
   ]
  },
  {
   "cell_type": "code",
   "execution_count": 18,
   "id": "0455391d",
   "metadata": {},
   "outputs": [
    {
     "data": {
      "text/plain": [
       "27"
      ]
     },
     "execution_count": 18,
     "metadata": {},
     "output_type": "execute_result"
    }
   ],
   "source": [
    "age = 23\n",
    "age += 4\n",
    "age"
   ]
  },
  {
   "cell_type": "code",
   "execution_count": 19,
   "id": "362f17bb",
   "metadata": {},
   "outputs": [
    {
     "data": {
      "text/plain": [
       "54"
      ]
     },
     "execution_count": 19,
     "metadata": {},
     "output_type": "execute_result"
    }
   ],
   "source": [
    "age *= 2\n",
    "age \n",
    "# notice that the +4 was destructive and it changed the original age variable. Keep this in mind"
   ]
  },
  {
   "cell_type": "markdown",
   "id": "d97b3e39",
   "metadata": {},
   "source": [
    "Comments"
   ]
  },
  {
   "cell_type": "code",
   "execution_count": 20,
   "id": "213bc0aa",
   "metadata": {},
   "outputs": [],
   "source": [
    "# This is a single line comment"
   ]
  },
  {
   "cell_type": "code",
   "execution_count": 21,
   "id": "0f92e263",
   "metadata": {},
   "outputs": [
    {
     "data": {
      "text/plain": [
       "'\\nThis is a multi line comment\\n'"
      ]
     },
     "execution_count": 21,
     "metadata": {},
     "output_type": "execute_result"
    }
   ],
   "source": [
    "\"\"\"\n",
    "This is a multi line comment\n",
    "\"\"\""
   ]
  },
  {
   "cell_type": "code",
   "execution_count": 22,
   "id": "47f8a017",
   "metadata": {},
   "outputs": [
    {
     "data": {
      "text/plain": [
       "'\\nThis is also a multi line comment\\n'"
      ]
     },
     "execution_count": 22,
     "metadata": {},
     "output_type": "execute_result"
    }
   ],
   "source": [
    "'''\n",
    "This is also a multi line comment\n",
    "'''"
   ]
  },
  {
   "cell_type": "markdown",
   "id": "8bc2dc20",
   "metadata": {},
   "source": [
    "Functions"
   ]
  },
  {
   "cell_type": "code",
   "execution_count": 23,
   "id": "cde8c3cc",
   "metadata": {},
   "outputs": [
    {
     "data": {
      "text/plain": [
       "3.142"
      ]
     },
     "execution_count": 23,
     "metadata": {},
     "output_type": "execute_result"
    }
   ],
   "source": [
    "pi = 3.14159\n",
    "round(pi, 3)"
   ]
  },
  {
   "cell_type": "code",
   "execution_count": 24,
   "id": "a340e930",
   "metadata": {},
   "outputs": [
    {
     "data": {
      "text/plain": [
       "3.1"
      ]
     },
     "execution_count": 24,
     "metadata": {},
     "output_type": "execute_result"
    }
   ],
   "source": [
    "round(pi, 1)"
   ]
  },
  {
   "cell_type": "code",
   "execution_count": 25,
   "id": "b99e857e",
   "metadata": {},
   "outputs": [
    {
     "data": {
      "text/plain": [
       "2"
      ]
     },
     "execution_count": 25,
     "metadata": {},
     "output_type": "execute_result"
    }
   ],
   "source": [
    "my_list = [2,4,5,6,20]\n",
    "min(my_list)"
   ]
  },
  {
   "cell_type": "code",
   "execution_count": 26,
   "id": "183d4536",
   "metadata": {},
   "outputs": [
    {
     "data": {
      "text/plain": [
       "5"
      ]
     },
     "execution_count": 26,
     "metadata": {},
     "output_type": "execute_result"
    }
   ],
   "source": [
    "len(my_list)"
   ]
  },
  {
   "cell_type": "code",
   "execution_count": 27,
   "id": "25dbf519",
   "metadata": {},
   "outputs": [
    {
     "data": {
      "text/plain": [
       "16"
      ]
     },
     "execution_count": 27,
     "metadata": {},
     "output_type": "execute_result"
    }
   ],
   "source": [
    "my_name = 'Laimis Lisauskas'\n",
    "len(my_name)"
   ]
  },
  {
   "cell_type": "code",
   "execution_count": 28,
   "id": "63352c48",
   "metadata": {},
   "outputs": [
    {
     "data": {
      "text/plain": [
       "20"
      ]
     },
     "execution_count": 28,
     "metadata": {},
     "output_type": "execute_result"
    }
   ],
   "source": [
    "max(my_list)"
   ]
  },
  {
   "cell_type": "markdown",
   "id": "217f7a10",
   "metadata": {},
   "source": [
    "Functions 2"
   ]
  },
  {
   "cell_type": "code",
   "execution_count": 29,
   "id": "7ace3e8e",
   "metadata": {},
   "outputs": [],
   "source": [
    "def my_addition_function(my_argument_1, my_argument_2):\n",
    "    answer = my_argument_1 + my_argument_2\n",
    "    return answer"
   ]
  },
  {
   "cell_type": "code",
   "execution_count": 30,
   "id": "5eafcefc",
   "metadata": {},
   "outputs": [
    {
     "data": {
      "text/plain": [
       "5"
      ]
     },
     "execution_count": 30,
     "metadata": {},
     "output_type": "execute_result"
    }
   ],
   "source": [
    "my_addition_function(2,3)"
   ]
  },
  {
   "cell_type": "code",
   "execution_count": 31,
   "id": "81120815",
   "metadata": {},
   "outputs": [
    {
     "data": {
      "text/plain": [
       "12"
      ]
     },
     "execution_count": 31,
     "metadata": {},
     "output_type": "execute_result"
    }
   ],
   "source": [
    "my_addition_function(10,2)"
   ]
  },
  {
   "cell_type": "code",
   "execution_count": 32,
   "id": "7be5b632",
   "metadata": {},
   "outputs": [],
   "source": [
    "# answer \n",
    "\n",
    "# writing this wouldn't work because the variable is local to the function, whilst this call was global.\n",
    "# this meant that the answer variable got destroyed after being used in the function"
   ]
  },
  {
   "cell_type": "markdown",
   "id": "ce0ff1f9",
   "metadata": {},
   "source": [
    "Methods"
   ]
  },
  {
   "cell_type": "code",
   "execution_count": 33,
   "id": "3136231d",
   "metadata": {},
   "outputs": [],
   "source": [
    "my_string = 'hello, my name is Laimis'"
   ]
  },
  {
   "cell_type": "code",
   "execution_count": 34,
   "id": "1a135bd5",
   "metadata": {},
   "outputs": [
    {
     "data": {
      "text/plain": [
       "'Hello, my name is laimis'"
      ]
     },
     "execution_count": 34,
     "metadata": {},
     "output_type": "execute_result"
    }
   ],
   "source": [
    "my_string.capitalize()"
   ]
  },
  {
   "cell_type": "code",
   "execution_count": 35,
   "id": "2869935b",
   "metadata": {},
   "outputs": [
    {
     "data": {
      "text/plain": [
       "'hello, my name is laimis'"
      ]
     },
     "execution_count": 35,
     "metadata": {},
     "output_type": "execute_result"
    }
   ],
   "source": [
    "my_string.lower()"
   ]
  },
  {
   "cell_type": "code",
   "execution_count": 36,
   "id": "b2733828",
   "metadata": {},
   "outputs": [
    {
     "data": {
      "text/plain": [
       "'Hello, My Name Is Laimis'"
      ]
     },
     "execution_count": 36,
     "metadata": {},
     "output_type": "execute_result"
    }
   ],
   "source": [
    "my_string.title()"
   ]
  },
  {
   "cell_type": "code",
   "execution_count": 37,
   "id": "c776cd02",
   "metadata": {},
   "outputs": [
    {
     "data": {
      "text/plain": [
       "'HELLO, MY NAME IS LAIMIS'"
      ]
     },
     "execution_count": 37,
     "metadata": {},
     "output_type": "execute_result"
    }
   ],
   "source": [
    "my_string.upper()"
   ]
  },
  {
   "cell_type": "code",
   "execution_count": 38,
   "id": "98e1ab2c",
   "metadata": {},
   "outputs": [
    {
     "data": {
      "text/plain": [
       "-1"
      ]
     },
     "execution_count": 38,
     "metadata": {},
     "output_type": "execute_result"
    }
   ],
   "source": [
    "# -1 means that there is no answer. This is because the previous code was destructive, meaning everything was capitalised\n",
    "# and because find is case sensitive, lowercase e was not found\n",
    "my_name.find('e')"
   ]
  },
  {
   "cell_type": "code",
   "execution_count": 39,
   "id": "491a297b",
   "metadata": {},
   "outputs": [
    {
     "data": {
      "text/plain": [
       "['hello,', 'my', 'name', 'is', 'Laimis']"
      ]
     },
     "execution_count": 39,
     "metadata": {},
     "output_type": "execute_result"
    }
   ],
   "source": [
    "my_string.split()"
   ]
  },
  {
   "cell_type": "code",
   "execution_count": 40,
   "id": "00d9b784",
   "metadata": {},
   "outputs": [
    {
     "data": {
      "text/plain": [
       "'Laimutis Lisauskas'"
      ]
     },
     "execution_count": 40,
     "metadata": {},
     "output_type": "execute_result"
    }
   ],
   "source": [
    "my_full_name = my_name.replace('Laimis', 'Laimutis')\n",
    "my_full_name"
   ]
  },
  {
   "cell_type": "markdown",
   "id": "f2004631",
   "metadata": {},
   "source": [
    "More data types"
   ]
  },
  {
   "cell_type": "code",
   "execution_count": 41,
   "id": "5c857b0a",
   "metadata": {},
   "outputs": [],
   "source": [
    "my_list_1 = ['Mae', 'Hen', ' Wlad', 'Fy', 'Nhadau']"
   ]
  },
  {
   "cell_type": "code",
   "execution_count": 42,
   "id": "b2306245",
   "metadata": {},
   "outputs": [
    {
     "data": {
      "text/plain": [
       "'Mae'"
      ]
     },
     "execution_count": 42,
     "metadata": {},
     "output_type": "execute_result"
    }
   ],
   "source": [
    "my_list_1[0]"
   ]
  },
  {
   "cell_type": "code",
   "execution_count": 43,
   "id": "674f9507",
   "metadata": {},
   "outputs": [
    {
     "data": {
      "text/plain": [
       "'Fy'"
      ]
     },
     "execution_count": 43,
     "metadata": {},
     "output_type": "execute_result"
    }
   ],
   "source": [
    "my_list_1[3]"
   ]
  },
  {
   "cell_type": "code",
   "execution_count": 44,
   "id": "4bc7dbbc",
   "metadata": {},
   "outputs": [
    {
     "data": {
      "text/plain": [
       "'Nhadau'"
      ]
     },
     "execution_count": 44,
     "metadata": {},
     "output_type": "execute_result"
    }
   ],
   "source": [
    "my_list_1[-1]"
   ]
  },
  {
   "cell_type": "code",
   "execution_count": 45,
   "id": "b502bdf9",
   "metadata": {},
   "outputs": [],
   "source": [
    "my_list_2 = ['Laimis Lisauskas', 42, 3.14159, True, ['South', 'Wales']]"
   ]
  },
  {
   "cell_type": "code",
   "execution_count": 46,
   "id": "f7bbcd9e",
   "metadata": {},
   "outputs": [
    {
     "data": {
      "text/plain": [
       "['Laimis Lisauskas', 42, 3.14159, True, ['South', 'Wales']]"
      ]
     },
     "execution_count": 46,
     "metadata": {},
     "output_type": "execute_result"
    }
   ],
   "source": [
    "my_list_2[:]"
   ]
  },
  {
   "cell_type": "code",
   "execution_count": 47,
   "id": "01299462",
   "metadata": {},
   "outputs": [
    {
     "data": {
      "text/plain": [
       "[42, 3.14159, True, ['South', 'Wales']]"
      ]
     },
     "execution_count": 47,
     "metadata": {},
     "output_type": "execute_result"
    }
   ],
   "source": [
    "my_list_2[1:]"
   ]
  },
  {
   "cell_type": "code",
   "execution_count": 48,
   "id": "7333d2b3",
   "metadata": {},
   "outputs": [
    {
     "data": {
      "text/plain": [
       "['Laimis Lisauskas', 42]"
      ]
     },
     "execution_count": 48,
     "metadata": {},
     "output_type": "execute_result"
    }
   ],
   "source": [
    "my_list_2[:2]"
   ]
  },
  {
   "cell_type": "code",
   "execution_count": 49,
   "id": "db79feb2",
   "metadata": {},
   "outputs": [
    {
     "data": {
      "text/plain": [
       "[['South', 'Wales'], 3.14159, 'Laimis Lisauskas']"
      ]
     },
     "execution_count": 49,
     "metadata": {},
     "output_type": "execute_result"
    }
   ],
   "source": [
    "# start : stop : step\n",
    "# the minus 2 in this example goes from the last variable in negative 2 count\n",
    "my_list_2[::-2]"
   ]
  },
  {
   "cell_type": "markdown",
   "id": "866569b3",
   "metadata": {},
   "source": [
    "Set methods"
   ]
  },
  {
   "cell_type": "code",
   "execution_count": 50,
   "id": "fd11037e",
   "metadata": {},
   "outputs": [],
   "source": [
    "my_set1 = {2,3,5,7}\n",
    "my_set2 = {1,3,5,7,9}"
   ]
  },
  {
   "cell_type": "code",
   "execution_count": 51,
   "id": "bb5e20cc",
   "metadata": {},
   "outputs": [
    {
     "data": {
      "text/plain": [
       "{1, 2, 3, 5, 7, 9}"
      ]
     },
     "execution_count": 51,
     "metadata": {},
     "output_type": "execute_result"
    }
   ],
   "source": [
    "union = my_set1.union(my_set2)\n",
    "union"
   ]
  },
  {
   "cell_type": "code",
   "execution_count": 52,
   "id": "92c01506",
   "metadata": {},
   "outputs": [
    {
     "data": {
      "text/plain": [
       "{3, 5, 7}"
      ]
     },
     "execution_count": 52,
     "metadata": {},
     "output_type": "execute_result"
    }
   ],
   "source": [
    "intersection = my_set1.intersection(my_set2)\n",
    "intersection"
   ]
  },
  {
   "cell_type": "markdown",
   "id": "04ac2caa",
   "metadata": {},
   "source": [
    "Program control"
   ]
  },
  {
   "cell_type": "code",
   "execution_count": 53,
   "id": "f7a552bf",
   "metadata": {},
   "outputs": [],
   "source": [
    "age = 18"
   ]
  },
  {
   "cell_type": "code",
   "execution_count": 54,
   "id": "a32309e9",
   "metadata": {},
   "outputs": [
    {
     "name": "stdout",
     "output_type": "stream",
     "text": [
      "Welcome to the Pub!\n"
     ]
    }
   ],
   "source": [
    "if age >= 18:\n",
    "    print('Welcome to the Pub!')"
   ]
  },
  {
   "cell_type": "code",
   "execution_count": 55,
   "id": "d556153c",
   "metadata": {},
   "outputs": [],
   "source": [
    "age = 17"
   ]
  },
  {
   "cell_type": "code",
   "execution_count": 56,
   "id": "d17bef18",
   "metadata": {},
   "outputs": [],
   "source": [
    "if age >= 18:\n",
    "    print('Welcome to the Pub!')\n",
    "\n",
    "# Notice that this did not get triggered, as age is lower than 18"
   ]
  },
  {
   "cell_type": "code",
   "execution_count": 57,
   "id": "95c9dc1c",
   "metadata": {},
   "outputs": [
    {
     "name": "stdout",
     "output_type": "stream",
     "text": [
      "Here's a Lemonade instead!\n"
     ]
    }
   ],
   "source": [
    "if age >= 18:\n",
    "    print('Welcome to the Pub!')\n",
    "else:\n",
    "    print(\"Here's a Lemonade instead!\")\n"
   ]
  },
  {
   "cell_type": "code",
   "execution_count": 58,
   "id": "c7266642",
   "metadata": {},
   "outputs": [
    {
     "name": "stdout",
     "output_type": "stream",
     "text": [
      "Welcome to the Pub!\n"
     ]
    }
   ],
   "source": [
    "age = 18\n",
    "if age >= 18:\n",
    "    print('Welcome to the Pub!')\n",
    "else:\n",
    "    print(\"Here's a Lemonade instead!\")\n"
   ]
  },
  {
   "cell_type": "code",
   "execution_count": 59,
   "id": "8ba2e370",
   "metadata": {},
   "outputs": [
    {
     "name": "stdout",
     "output_type": "stream",
     "text": [
      "Sorry, you failed the course\n"
     ]
    }
   ],
   "source": [
    "my_mark1 = 0.7\n",
    "my_mark2 = 0.2\n",
    "\n",
    "if (my_mark1) >= 0.4:\n",
    "    if my_mark2 >= 0.4:\n",
    "        print('Congratulations, you passed the course')\n",
    "    else:\n",
    "        print('Sorry, you failed the course')\n",
    "else:\n",
    "    print('Sorry, you failed the course')\n"
   ]
  },
  {
   "cell_type": "code",
   "execution_count": 60,
   "id": "0c75f975",
   "metadata": {},
   "outputs": [
    {
     "name": "stdout",
     "output_type": "stream",
     "text": [
      "USW\n",
      "Cardiff\n",
      "Swansea\n",
      "Bristol\n"
     ]
    }
   ],
   "source": [
    "for university in ['USW', 'Cardiff', \"Swansea\", 'Bristol']:\n",
    "    print(university)"
   ]
  },
  {
   "cell_type": "code",
   "execution_count": 61,
   "id": "d107fa7a",
   "metadata": {},
   "outputs": [
    {
     "name": "stdout",
     "output_type": "stream",
     "text": [
      "1\n",
      "2\n",
      "3\n",
      "4\n"
     ]
    }
   ],
   "source": [
    "for number in range(1,5):\n",
    "    print(number)"
   ]
  },
  {
   "cell_type": "code",
   "execution_count": 62,
   "id": "79fdfcef",
   "metadata": {},
   "outputs": [
    {
     "name": "stdout",
     "output_type": "stream",
     "text": [
      "red\n",
      "blue\n",
      "yellow\n",
      "Those are all the primary colours!\n"
     ]
    }
   ],
   "source": [
    "for colour in ('red','blue','yellow'):\n",
    "    print(colour)\n",
    "else:\n",
    "    print('Those are all the primary colours!')"
   ]
  },
  {
   "cell_type": "markdown",
   "id": "9298561d",
   "metadata": {},
   "source": [
    "While loops"
   ]
  },
  {
   "cell_type": "code",
   "execution_count": 63,
   "id": "9be9de32",
   "metadata": {},
   "outputs": [
    {
     "name": "stdout",
     "output_type": "stream",
     "text": [
      "0\n",
      "1\n",
      "2\n"
     ]
    }
   ],
   "source": [
    "i = 0\n",
    "while i < 3:\n",
    "    print(i)\n",
    "    i += 1"
   ]
  },
  {
   "cell_type": "code",
   "execution_count": 64,
   "id": "aab945fd",
   "metadata": {},
   "outputs": [],
   "source": [
    "choise = 0\n",
    "while choise < 0:\n",
    "    print(choise)"
   ]
  },
  {
   "cell_type": "code",
   "execution_count": 65,
   "id": "f62e70f3",
   "metadata": {},
   "outputs": [],
   "source": [
    "# choise = 0\n",
    "# while choise <= 0:\n",
    "#     print(choise)\n",
    "\n",
    "# dangerious because this is an infinite loop"
   ]
  },
  {
   "cell_type": "code",
   "execution_count": null,
   "id": "203ba468",
   "metadata": {},
   "outputs": [],
   "source": []
  }
 ],
 "metadata": {
  "kernelspec": {
   "display_name": "base",
   "language": "python",
   "name": "python3"
  },
  "language_info": {
   "codemirror_mode": {
    "name": "ipython",
    "version": 3
   },
   "file_extension": ".py",
   "mimetype": "text/x-python",
   "name": "python",
   "nbconvert_exporter": "python",
   "pygments_lexer": "ipython3",
   "version": "3.12.2"
  }
 },
 "nbformat": 4,
 "nbformat_minor": 5
}
