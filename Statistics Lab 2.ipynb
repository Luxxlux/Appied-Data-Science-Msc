{
 "cells": [
  {
   "cell_type": "markdown",
   "id": "699db679",
   "metadata": {},
   "source": [
    "# 1 First calculations of probabilities\n",
    "## 1.1 task\n",
    "\n",
    "A fair coin is tossed 25 times. Store at the variable a the probability to get 25 heads. A fair six-sided dice is throwing 10 times. Store at the variable b the probability to get 10 equal even scores. Find the ratio a/b.\n",
    "\n",
    "a/b\n",
    "0.6006774902343753"
   ]
  },
  {
   "cell_type": "code",
   "execution_count": 1,
   "id": "f8827449",
   "metadata": {},
   "outputs": [],
   "source": [
    "import sympy as sp\n",
    "a = (1/2)**25\n",
    "b = (1/6)**10 * 3"
   ]
  },
  {
   "cell_type": "code",
   "execution_count": 2,
   "id": "d7cb3162",
   "metadata": {},
   "outputs": [
    {
     "data": {
      "text/plain": [
       "0.6006774902343753"
      ]
     },
     "execution_count": 2,
     "metadata": {},
     "output_type": "execute_result"
    }
   ],
   "source": [
    "a/b"
   ]
  },
  {
   "cell_type": "markdown",
   "id": "09e5997b",
   "metadata": {},
   "source": [
    "## Task 1.2\n",
    "An experiment consists of selecting a token from a bag and spinning a coin. The bag contains 345 red tokens and 678 blue tokens. A token is selected at random from the bag, its colour is noted and then the token is returned to the bag.\n",
    "\n",
    "When a red token is selected, a biased coin with probability 4/5 of landing heads is tossed.\n",
    "\n",
    "When a blue token is selected, a biased coin with probability 2/5 of landing heads is tossed.\n",
    "\n",
    "Find the probability c of obtaining tail. Round the answer to 3 decimal digits.\n",
    "\n",
    "c\n",
    "0.465"
   ]
  },
  {
   "cell_type": "code",
   "execution_count": 54,
   "id": "15245e0f",
   "metadata": {},
   "outputs": [
    {
     "data": {
      "text/plain": [
       "0.465"
      ]
     },
     "execution_count": 54,
     "metadata": {},
     "output_type": "execute_result"
    }
   ],
   "source": [
    "from fractions import Fraction\n",
    "\n",
    "tred = Fraction(345,345+678)\n",
    "tred_coin_h = Fraction(4,5)\n",
    "tred_coin_t = Fraction(1,5)\n",
    "\n",
    "tblue = Fraction(678,345+678)\n",
    "tblue_coin_h = Fraction(2,5)\n",
    "tblue_coin_t = Fraction(3,5)\n",
    "\n",
    "c = tred*tred_coin_t + tblue*tblue_coin_t\n",
    "round(float(c), 3)\n"
   ]
  },
  {
   "cell_type": "markdown",
   "id": "9fda288a",
   "metadata": {},
   "source": [
    "# Task 1.3\n",
    "In the conditions of the previous task, if the tail was obtained, what is the probability d of having selected a red token? Round the answer to 3 decimal digits.\n",
    "\n",
    "d\n",
    "0.145"
   ]
  },
  {
   "cell_type": "code",
   "execution_count": 60,
   "id": "5baa2924",
   "metadata": {},
   "outputs": [
    {
     "data": {
      "text/plain": [
       "0.145"
      ]
     },
     "execution_count": 60,
     "metadata": {},
     "output_type": "execute_result"
    }
   ],
   "source": [
    "#P(red token |tail) = ((tail|red token)*(red_token))/tail\n",
    "d = (tred*tred_coin_t)/c\n",
    "round(float(d), 3)"
   ]
  },
  {
   "cell_type": "markdown",
   "id": "5d8f64e0",
   "metadata": {},
   "source": [
    "# 2.Combinatorics"
   ]
  },
  {
   "cell_type": "code",
   "execution_count": 62,
   "id": "f1548201",
   "metadata": {},
   "outputs": [
    {
     "name": "stdout",
     "output_type": "stream",
     "text": [
      "2\n",
      "3\n",
      "4\n",
      "5\n",
      "6\n",
      "7\n",
      "8\n",
      "9\n",
      "10\n"
     ]
    },
    {
     "data": {
      "text/plain": [
       "3628800"
      ]
     },
     "execution_count": 62,
     "metadata": {},
     "output_type": "execute_result"
    }
   ],
   "source": [
    "n = 10\n",
    "f = 1\n",
    "\n",
    "for i in range(2, n+1):\n",
    "    f *=i\n",
    "    print(i)\n",
    "f"
   ]
  },
  {
   "cell_type": "code",
   "execution_count": 63,
   "id": "7739ab2d",
   "metadata": {},
   "outputs": [
    {
     "data": {
      "text/plain": [
       "3628800"
      ]
     },
     "execution_count": 63,
     "metadata": {},
     "output_type": "execute_result"
    }
   ],
   "source": [
    "import math\n",
    "math.factorial(10)"
   ]
  },
  {
   "cell_type": "code",
   "execution_count": 66,
   "id": "083fda1f",
   "metadata": {},
   "outputs": [
    {
     "data": {
      "text/plain": [
       "3628800"
      ]
     },
     "execution_count": 66,
     "metadata": {},
     "output_type": "execute_result"
    }
   ],
   "source": [
    "from scipy.special import factorial\n",
    "factorial(10, exact=True)"
   ]
  },
  {
   "cell_type": "code",
   "execution_count": 67,
   "id": "a0675a4f",
   "metadata": {},
   "outputs": [
    {
     "data": {
      "text/plain": [
       "210"
      ]
     },
     "execution_count": 67,
     "metadata": {},
     "output_type": "execute_result"
    }
   ],
   "source": [
    "from scipy.special import comb\n",
    "n = 10\n",
    "k = 4\n",
    "comb(n, k, exact=True)"
   ]
  },
  {
   "cell_type": "markdown",
   "id": "43b58671",
   "metadata": {},
   "source": [
    "## Task 2.1\n",
    "In a school sport club, there are 20 children who like rugby more than football, and 15 children who like football more than rugby. (No one likes them equally.) The club wants to form a committee of 6 people: 3 football fans and 3 rugby fans. How many ways does there exist to form the committee? Store the answer in w.\n",
    "\n",
    "Remark. Note that since the choice of football fans does not depend on the choice of rugby fans, we need just to multiply the number of ways to choose fotball fans and the number of ways to choose rugby fans."
   ]
  },
  {
   "cell_type": "code",
   "execution_count": 75,
   "id": "ffaa3292",
   "metadata": {},
   "outputs": [
    {
     "data": {
      "text/plain": [
       "np.float64(15504.0)"
      ]
     },
     "execution_count": 75,
     "metadata": {},
     "output_type": "execute_result"
    }
   ],
   "source": [
    "fav_rugby = 20\n",
    "fav_football = 15\n",
    "\n",
    "fr = factorial(fav_rugby, exact=True)\n",
    "ff = factorial(fav_football, exact=True)\n",
    "\n",
    "binomial = (fr)/(ff * factorial(fav_rugby - fav_football))\n",
    "binomial"
   ]
  },
  {
   "cell_type": "markdown",
   "id": "6bdf1736",
   "metadata": {},
   "source": [
    "## Self test task\n",
    "25% of all students enrolled in high school XYZ are taking Algebra. 30 students are chosen at random."
   ]
  },
  {
   "cell_type": "markdown",
   "id": "08163537",
   "metadata": {},
   "source": [
    "(b) what is the probability that fewer than 5 students out of the 30 who are selected are taking Algebra?"
   ]
  },
  {
   "cell_type": "code",
   "execution_count": 116,
   "id": "b948d5bb",
   "metadata": {},
   "outputs": [
    {
     "data": {
      "text/plain": [
       "0.097691"
      ]
     },
     "execution_count": 116,
     "metadata": {},
     "output_type": "execute_result"
    }
   ],
   "source": [
    "n = 30\n",
    "x = [1,2,3,4]\n",
    "p = 0.25\n",
    "q = 0.75\n",
    "\n",
    "def compute_binomial(n, x):\n",
    "    return factorial(n, exact=True)/(factorial(x, exact=True)*factorial((n-x), exact=True))\n",
    "\n",
    "b_results = []\n",
    "\n",
    "\n",
    "for i in x:\n",
    "    result = compute_binomial(n, i)\n",
    "    #print(f\"nCr for x = {i}: {compute_binomial(n, i)}\")\n",
    "    b_results.append(result)\n",
    "\n",
    "b_results\n",
    "prob_total = []\n",
    "\n",
    "\n",
    "for i, xi in zip(b_results, x):\n",
    "    prob_each = i * (p**xi) * (q**(n-xi))\n",
    "    prob_total.append(prob_each)\n",
    "\n",
    "round(sum(prob_total), 6)\n"
   ]
  },
  {
   "cell_type": "code",
   "execution_count": 122,
   "id": "3199815e",
   "metadata": {},
   "outputs": [
    {
     "name": "stdout",
     "output_type": "stream",
     "text": [
      "0.09769101747448583\n"
     ]
    }
   ],
   "source": [
    "xx1 = compute_binomial(30,1)*(0.25)**1*(0.75)**(29)\n",
    "xx2 = compute_binomial(30,2)*(0.25)**2*(0.75)**(28)\n",
    "xx3 = compute_binomial(30,3)*(0.25)**3*(0.75)**(27)\n",
    "xx4 = compute_binomial(30,4)*(0.25)**4*(0.75)**(26)\n",
    "\n",
    "# print(xx1)\n",
    "# print(xx2)\n",
    "# print(xx3)\n",
    "# print(xx4)\n",
    "\n",
    "print((xx1+xx2+xx3+xx4))\n",
    "\n"
   ]
  },
  {
   "cell_type": "code",
   "execution_count": 128,
   "id": "fc9ac7fa",
   "metadata": {},
   "outputs": [
    {
     "name": "stdout",
     "output_type": "stream",
     "text": [
      "The mean is 7.5\n",
      "The standard deviation is 2.3717082451262845\n"
     ]
    }
   ],
   "source": [
    "# calculate the mean and standard deviation of this binomial distribution\n",
    "\n",
    "mean = 30*(0.25) # number of trials times prob. of success\n",
    "stand_dev = math.sqrt(n*p*q) # square root of (number of tirals, times, prob of success, times, prob of failure)\n",
    "\n",
    "print(f'The mean is {mean}')\n",
    "print(f'The standard deviation is {stand_dev}')"
   ]
  },
  {
   "cell_type": "code",
   "execution_count": null,
   "id": "41a16806",
   "metadata": {},
   "outputs": [],
   "source": []
  }
 ],
 "metadata": {
  "kernelspec": {
   "display_name": "base",
   "language": "python",
   "name": "python3"
  },
  "language_info": {
   "codemirror_mode": {
    "name": "ipython",
    "version": 3
   },
   "file_extension": ".py",
   "mimetype": "text/x-python",
   "name": "python",
   "nbconvert_exporter": "python",
   "pygments_lexer": "ipython3",
   "version": "3.13.5"
  }
 },
 "nbformat": 4,
 "nbformat_minor": 5
}
