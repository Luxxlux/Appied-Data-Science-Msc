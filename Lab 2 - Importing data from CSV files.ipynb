{
 "cells": [
  {
   "cell_type": "markdown",
   "id": "bcfedfd7",
   "metadata": {},
   "source": [
    "# Importing data from CSV files"
   ]
  },
  {
   "cell_type": "code",
   "execution_count": 2,
   "id": "7b2870a6",
   "metadata": {},
   "outputs": [],
   "source": [
    "import pandas as pd"
   ]
  },
  {
   "cell_type": "code",
   "execution_count": 3,
   "id": "0e82b509",
   "metadata": {},
   "outputs": [],
   "source": [
    "df = pd.read_csv('sportsclub.csv')"
   ]
  },
  {
   "cell_type": "code",
   "execution_count": 4,
   "id": "4242eb21",
   "metadata": {},
   "outputs": [
    {
     "data": {
      "text/html": [
       "<div>\n",
       "<style scoped>\n",
       "    .dataframe tbody tr th:only-of-type {\n",
       "        vertical-align: middle;\n",
       "    }\n",
       "\n",
       "    .dataframe tbody tr th {\n",
       "        vertical-align: top;\n",
       "    }\n",
       "\n",
       "    .dataframe thead th {\n",
       "        text-align: right;\n",
       "    }\n",
       "</style>\n",
       "<table border=\"1\" class=\"dataframe\">\n",
       "  <thead>\n",
       "    <tr style=\"text-align: right;\">\n",
       "      <th></th>\n",
       "      <th>Weight</th>\n",
       "      <th>Height</th>\n",
       "    </tr>\n",
       "  </thead>\n",
       "  <tbody>\n",
       "    <tr>\n",
       "      <th>0</th>\n",
       "      <td>70</td>\n",
       "      <td>167</td>\n",
       "    </tr>\n",
       "    <tr>\n",
       "      <th>1</th>\n",
       "      <td>83</td>\n",
       "      <td>164</td>\n",
       "    </tr>\n",
       "    <tr>\n",
       "      <th>2</th>\n",
       "      <td>66</td>\n",
       "      <td>183</td>\n",
       "    </tr>\n",
       "    <tr>\n",
       "      <th>3</th>\n",
       "      <td>57</td>\n",
       "      <td>141</td>\n",
       "    </tr>\n",
       "    <tr>\n",
       "      <th>4</th>\n",
       "      <td>82</td>\n",
       "      <td>187</td>\n",
       "    </tr>\n",
       "    <tr>\n",
       "      <th>5</th>\n",
       "      <td>62</td>\n",
       "      <td>148</td>\n",
       "    </tr>\n",
       "  </tbody>\n",
       "</table>\n",
       "</div>"
      ],
      "text/plain": [
       "   Weight  Height\n",
       "0      70     167\n",
       "1      83     164\n",
       "2      66     183\n",
       "3      57     141\n",
       "4      82     187\n",
       "5      62     148"
      ]
     },
     "execution_count": 4,
     "metadata": {},
     "output_type": "execute_result"
    }
   ],
   "source": [
    "df.head(6)"
   ]
  },
  {
   "cell_type": "code",
   "execution_count": 5,
   "id": "303154b1",
   "metadata": {},
   "outputs": [
    {
     "data": {
      "text/plain": [
       "0      70\n",
       "1      83\n",
       "2      66\n",
       "3      57\n",
       "4      82\n",
       "       ..\n",
       "195    87\n",
       "196    50\n",
       "197    70\n",
       "198    56\n",
       "199    80\n",
       "Name: Weight, Length: 200, dtype: int64"
      ]
     },
     "execution_count": 5,
     "metadata": {},
     "output_type": "execute_result"
    }
   ],
   "source": [
    "df['Weight']"
   ]
  },
  {
   "cell_type": "markdown",
   "id": "5e71c152",
   "metadata": {},
   "source": [
    "The output is a Pandas series. It may be converted to a Numpy array:"
   ]
  },
  {
   "cell_type": "code",
   "execution_count": 9,
   "id": "10922baf",
   "metadata": {},
   "outputs": [
    {
     "data": {
      "text/plain": [
       "array([70, 83, 66, 57, 82, 62, 83, 85, 54, 66, 52, 64, 88, 69, 87, 86, 79,\n",
       "       84, 58, 56, 52, 66, 83, 51, 67, 88, 57, 70, 81, 63, 56, 64, 55, 68,\n",
       "       55, 57, 52, 53, 81, 73, 52, 61, 71, 70, 75, 78, 55, 81, 57, 67, 66,\n",
       "       51, 83, 85, 63, 68, 89, 72, 57, 52, 64, 52, 58, 58, 78, 54, 65, 74,\n",
       "       77, 61, 65, 50, 65, 54, 52, 71, 82, 63, 57, 67, 85, 83, 57, 67, 54,\n",
       "       81, 54, 58, 85, 77, 76, 89, 71, 68, 79, 88, 61, 79, 62, 72, 52, 77,\n",
       "       69, 84, 73, 65, 83, 84, 58, 88, 62, 78, 71, 77, 85, 58, 78, 69, 87,\n",
       "       89, 72, 60, 58, 89, 65, 55, 63, 74, 57, 53, 89, 59, 85, 84, 52, 65,\n",
       "       83, 56, 66, 82, 89, 65, 59, 67, 87, 56, 69, 58, 83, 80, 51, 62, 69,\n",
       "       55, 58, 59, 80, 86, 80, 68, 67, 84, 57, 77, 82, 71, 69, 58, 54, 89,\n",
       "       85, 80, 68, 57, 60, 73, 82, 68, 56, 75, 86, 87, 84, 84, 80, 74, 54,\n",
       "       67, 61, 84, 67, 55, 72, 54, 80, 87, 50, 70, 56, 80])"
      ]
     },
     "execution_count": 9,
     "metadata": {},
     "output_type": "execute_result"
    }
   ],
   "source": [
    "b = df['Weight'].to_numpy()\n",
    "b"
   ]
  },
  {
   "cell_type": "code",
   "execution_count": 10,
   "id": "0eb296a9",
   "metadata": {},
   "outputs": [
    {
     "data": {
      "text/plain": [
       "array([70, 83, 66, 57, 82, 62])"
      ]
     },
     "execution_count": 10,
     "metadata": {},
     "output_type": "execute_result"
    }
   ],
   "source": [
    "# and if you wanted to only have a subsection of this, you would define b as:\n",
    "b[0:6]"
   ]
  },
  {
   "cell_type": "markdown",
   "id": "9199b4eb",
   "metadata": {},
   "source": [
    "## Task 2.1\n",
    "Find the average weight of the members of the sports club. Check your answer.\n",
    "\n",
    "69.34"
   ]
  },
  {
   "cell_type": "code",
   "execution_count": 11,
   "id": "9613dbd6",
   "metadata": {},
   "outputs": [
    {
     "data": {
      "text/plain": [
       "np.float64(69.34)"
      ]
     },
     "execution_count": 11,
     "metadata": {},
     "output_type": "execute_result"
    }
   ],
   "source": [
    "b.mean()"
   ]
  },
  {
   "cell_type": "markdown",
   "id": "b2373bdf",
   "metadata": {},
   "source": [
    "## Task 2.2\n",
    "Assign to variable d the Numpy array of the heights of all members of the sports club. Find the median and the variance of the heights. Check your answers.\n",
    "\n",
    "[170.0, 254.2239]"
   ]
  },
  {
   "cell_type": "code",
   "execution_count": 20,
   "id": "8694299b",
   "metadata": {},
   "outputs": [
    {
     "name": "stdout",
     "output_type": "stream",
     "text": [
      "Median of heights 170.0\n",
      "Variance of heights 254.2239\n"
     ]
    }
   ],
   "source": [
    "d = df['Height']\n",
    "\n",
    "print(f'Median of heights {d.median()}')\n",
    "print(f'Variance of heights {d.var(ddof=0)}')"
   ]
  },
  {
   "cell_type": "markdown",
   "id": "313af57c",
   "metadata": {},
   "source": [
    "## Task 2.3\n",
    "Assign to variable e the Numpy array of the body mass indexes (BMI) of the club members: if a member has weight (w) kg and height (h) cm, then its BMI is 10^4 * (w/(h**2)). Remember that in Python all array operations are done component-wise. Find the mean and the standard deviation of e. Check your answer.\n",
    "\n",
    "[24.900949943455288, 6.54617400802904]\n",
    "\n"
   ]
  },
  {
   "cell_type": "code",
   "execution_count": 36,
   "id": "945e177f",
   "metadata": {},
   "outputs": [
    {
     "name": "stdout",
     "output_type": "stream",
     "text": [
      "Mean of player's BMI is 24.900949943455288\n",
      "Standard dev. of player's BMI is 6.546174008029039\n"
     ]
    }
   ],
   "source": [
    "w = df['Weight']\n",
    "h = df['Height']\n",
    "\n",
    "e = (10**4 * (w/(h**2)))\n",
    "\n",
    "print(f\"Mean of player's BMI is {e.mean()}\")\n",
    "print(f\"Standard dev. of player's BMI is {e.std(ddof=0)}\")"
   ]
  },
  {
   "cell_type": "code",
   "execution_count": null,
   "id": "6ed51691",
   "metadata": {},
   "outputs": [],
   "source": []
  }
 ],
 "metadata": {
  "kernelspec": {
   "display_name": ".venv",
   "language": "python",
   "name": "python3"
  },
  "language_info": {
   "codemirror_mode": {
    "name": "ipython",
    "version": 3
   },
   "file_extension": ".py",
   "mimetype": "text/x-python",
   "name": "python",
   "nbconvert_exporter": "python",
   "pygments_lexer": "ipython3",
   "version": "3.9.6"
  }
 },
 "nbformat": 4,
 "nbformat_minor": 5
}
