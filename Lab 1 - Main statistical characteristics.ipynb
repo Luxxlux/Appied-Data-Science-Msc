{
 "cells": [
  {
   "cell_type": "code",
   "execution_count": null,
   "id": "1b9978fe",
   "metadata": {},
   "outputs": [],
   "source": [
    "import numpy as np"
   ]
  },
  {
   "cell_type": "markdown",
   "id": "e5e9f1f5",
   "metadata": {},
   "source": [
    "# Main statistical characteristics"
   ]
  },
  {
   "cell_type": "code",
   "execution_count": 4,
   "id": "58fc71b5",
   "metadata": {},
   "outputs": [],
   "source": [
    "a = [2, 1, 3, 4, 2, 6, 4, 0, 1, 1, 3, 3, 4, 1, 1, 5, 5, 2, 1, 3]"
   ]
  },
  {
   "cell_type": "code",
   "execution_count": 7,
   "id": "5cf5f2ba",
   "metadata": {},
   "outputs": [
    {
     "data": {
      "text/plain": [
       "[1, 2, 1, 2, 1, 2, 1, 2, 1, 2, 1, 2, 1, 2]"
      ]
     },
     "execution_count": 7,
     "metadata": {},
     "output_type": "execute_result"
    }
   ],
   "source": [
    "# extending a list\n",
    "7 * [1,2]"
   ]
  },
  {
   "cell_type": "code",
   "execution_count": 9,
   "id": "eafcd392",
   "metadata": {},
   "outputs": [
    {
     "data": {
      "text/plain": [
       "array([1, 2])"
      ]
     },
     "execution_count": 9,
     "metadata": {},
     "output_type": "execute_result"
    }
   ],
   "source": [
    "# To work with vectors, we can convert them into numpy arrays\n",
    "np.array([1,2])"
   ]
  },
  {
   "cell_type": "code",
   "execution_count": 11,
   "id": "6debcec3",
   "metadata": {},
   "outputs": [
    {
     "data": {
      "text/plain": [
       "array([2, 4])"
      ]
     },
     "execution_count": 11,
     "metadata": {},
     "output_type": "execute_result"
    }
   ],
   "source": [
    "# multiplies the inside of the array by two\n",
    "# does not multiply instances\n",
    "2 * np.array([1,2])"
   ]
  },
  {
   "cell_type": "markdown",
   "id": "09f2cdf3",
   "metadata": {},
   "source": [
    "## Task 1.1\n",
    "Convert the list a defined above to a Numpy array, reassign the result again to the variable a to get the following output\n",
    "\n",
    "a\n",
    "\n",
    "array([2, 1, 3, 4, 2, 6, 4, 0, 1, 1, 3, 3, 4, 1, 1, 5, 5, 2, 1, 3])\n"
   ]
  },
  {
   "cell_type": "code",
   "execution_count": 13,
   "id": "040bae84",
   "metadata": {},
   "outputs": [
    {
     "data": {
      "text/plain": [
       "array([2, 1, 3, 4, 2, 6, 4, 0, 1, 1, 3, 3, 4, 1, 1, 5, 5, 2, 1, 3])"
      ]
     },
     "execution_count": 13,
     "metadata": {},
     "output_type": "execute_result"
    }
   ],
   "source": [
    "a = np.array(a)\n",
    "a"
   ]
  },
  {
   "cell_type": "markdown",
   "id": "a0dd8434",
   "metadata": {},
   "source": [
    "### Mean"
   ]
  },
  {
   "cell_type": "code",
   "execution_count": 22,
   "id": "9ae72d38",
   "metadata": {},
   "outputs": [
    {
     "data": {
      "text/plain": [
       "np.float64(2.6)"
      ]
     },
     "execution_count": 22,
     "metadata": {},
     "output_type": "execute_result"
    }
   ],
   "source": [
    "# and we want to create the mean for it, we do:\n",
    "mean_a = np.mean(a)\n",
    "mean_a\n"
   ]
  },
  {
   "cell_type": "markdown",
   "id": "dbd86f91",
   "metadata": {},
   "source": [
    "This has taken the a array and created the numpy float 2.6 above"
   ]
  },
  {
   "cell_type": "markdown",
   "id": "b6194f30",
   "metadata": {},
   "source": [
    "## Population variance and standard deviation\n",
    "To calculate the population variance of a, i.e. the quantity\n",
    "\n",
    " \n",
    "\n",
    "we use np.var method and to calculate the population standard deviation \n",
    " we use np.std method. For example,"
   ]
  },
  {
   "cell_type": "code",
   "execution_count": 23,
   "id": "b82ddb95",
   "metadata": {},
   "outputs": [
    {
     "data": {
      "text/plain": [
       "np.float64(2.6399999999999997)"
      ]
     },
     "execution_count": 23,
     "metadata": {},
     "output_type": "execute_result"
    }
   ],
   "source": [
    "np.var(a)"
   ]
  },
  {
   "cell_type": "markdown",
   "id": "e15bf92a",
   "metadata": {},
   "source": [
    "or"
   ]
  },
  {
   "cell_type": "code",
   "execution_count": 24,
   "id": "3820e122",
   "metadata": {},
   "outputs": [
    {
     "data": {
      "text/plain": [
       "2.6399999999999997"
      ]
     },
     "execution_count": 24,
     "metadata": {},
     "output_type": "execute_result"
    }
   ],
   "source": [
    "float(np.var(a))"
   ]
  },
  {
   "cell_type": "markdown",
   "id": "882ca0bf",
   "metadata": {},
   "source": [
    "This is faster than doing this the longhand:"
   ]
  },
  {
   "cell_type": "code",
   "execution_count": 25,
   "id": "7b3e7c5b",
   "metadata": {},
   "outputs": [
    {
     "data": {
      "text/plain": [
       "np.float64(2.64)"
      ]
     },
     "execution_count": 25,
     "metadata": {},
     "output_type": "execute_result"
    }
   ],
   "source": [
    "sum((a - np.mean(a))**2)/len(a)"
   ]
  },
  {
   "cell_type": "markdown",
   "id": "1f1aae9e",
   "metadata": {},
   "source": [
    "np.mean(a) takes away a from all of the intigers in this array"
   ]
  },
  {
   "cell_type": "markdown",
   "id": "99377b12",
   "metadata": {},
   "source": [
    "## Task 1.3\n",
    "Find the standard deviation of a. The answer should be:\n",
    "1.624807680927192"
   ]
  },
  {
   "cell_type": "code",
   "execution_count": 27,
   "id": "d31dd771",
   "metadata": {},
   "outputs": [
    {
     "data": {
      "text/plain": [
       "np.float64(1.624807680927192)"
      ]
     },
     "execution_count": 27,
     "metadata": {},
     "output_type": "execute_result"
    }
   ],
   "source": [
    "np.std(a)"
   ]
  },
  {
   "cell_type": "markdown",
   "id": "25fe57bf",
   "metadata": {},
   "source": [
    "### Sample variance and standard deviation\n",
    "To do for the pupulation, we can denote the delta degrees of freedom, which for the variance and standard deviation indicates the n in the denominator. Passing 0, or leaving blank the ddof in var means that it var or std will be a sample, otherwise ddof=1 will show the population variants"
   ]
  },
  {
   "cell_type": "code",
   "execution_count": 28,
   "id": "c0aefc3b",
   "metadata": {},
   "outputs": [
    {
     "data": {
      "text/plain": [
       "np.float64(2.7789473684210524)"
      ]
     },
     "execution_count": 28,
     "metadata": {},
     "output_type": "execute_result"
    }
   ],
   "source": [
    "np.var(a, ddof = 1)"
   ]
  },
  {
   "cell_type": "markdown",
   "id": "dd636630",
   "metadata": {},
   "source": [
    "Notice how this shrinks the denominator, increasing the value"
   ]
  },
  {
   "cell_type": "code",
   "execution_count": 29,
   "id": "b145e8a6",
   "metadata": {},
   "outputs": [
    {
     "data": {
      "text/plain": [
       "np.True_"
      ]
     },
     "execution_count": 29,
     "metadata": {},
     "output_type": "execute_result"
    }
   ],
   "source": [
    "np.var(a, ddof = 1) == np.var(a)*20/19"
   ]
  },
  {
   "cell_type": "markdown",
   "id": "66088021",
   "metadata": {},
   "source": [
    "## Task 1.4\n",
    "Find the sample standard deviation for a using an analogy with the previous commands. Check the answer.\n",
    "\n",
    "1.6670175069329813"
   ]
  },
  {
   "cell_type": "code",
   "execution_count": 35,
   "id": "0ca843ef",
   "metadata": {},
   "outputs": [
    {
     "data": {
      "text/plain": [
       "np.float64(1.624807680927192)"
      ]
     },
     "execution_count": 35,
     "metadata": {},
     "output_type": "execute_result"
    }
   ],
   "source": [
    "np.std(a)"
   ]
  },
  {
   "cell_type": "code",
   "execution_count": null,
   "id": "55bdcbad",
   "metadata": {},
   "outputs": [],
   "source": []
  }
 ],
 "metadata": {
  "kernelspec": {
   "display_name": ".venv",
   "language": "python",
   "name": "python3"
  },
  "language_info": {
   "codemirror_mode": {
    "name": "ipython",
    "version": 3
   },
   "file_extension": ".py",
   "mimetype": "text/x-python",
   "name": "python",
   "nbconvert_exporter": "python",
   "pygments_lexer": "ipython3",
   "version": "3.9.6"
  }
 },
 "nbformat": 4,
 "nbformat_minor": 5
}
