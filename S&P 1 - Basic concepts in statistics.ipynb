{
 "cells": [
  {
   "cell_type": "code",
   "execution_count": 17,
   "id": "52007208",
   "metadata": {},
   "outputs": [
    {
     "name": "stdout",
     "output_type": "stream",
     "text": [
      "81.4\n"
     ]
    }
   ],
   "source": [
    "import pandas as pd\n",
    "\n",
    "# Weighted mean example\n",
    "student_score = pd.Series([90,80,63,87])\n",
    "weightings = pd.Series([0.2,0.2,0.2,0.4])\n",
    "\n",
    "# Weighted mean example in pandas\n",
    "weighted_score = ((student_score * weightings)/sum(weightings))\n",
    "\n",
    "# Must sum or else you will get the respective numbers in a series\n",
    "print(sum(weighted_score))"
   ]
  },
  {
   "cell_type": "code",
   "execution_count": null,
   "id": "f36d6e68",
   "metadata": {},
   "outputs": [
    {
     "data": {
      "text/plain": [
       "7.0"
      ]
     },
     "execution_count": 22,
     "metadata": {},
     "output_type": "execute_result"
    }
   ],
   "source": [
    "# Median example (middle number)\n",
    "# Formula = (0.5nth + (0.5n + 1)th) / 2\n",
    "\n",
    "values = [5,0,1,9,7,10,14]\n",
    "\n",
    "# Pandas shortcut\n",
    "values_pd = pd.Series(values)\n",
    "values_pd.median()"
   ]
  },
  {
   "cell_type": "code",
   "execution_count": 27,
   "id": "0a44bec9",
   "metadata": {},
   "outputs": [
    {
     "data": {
      "text/plain": [
       "0    20\n",
       "dtype: int64"
      ]
     },
     "execution_count": 27,
     "metadata": {},
     "output_type": "execute_result"
    }
   ],
   "source": [
    "# Mode example\n",
    "mode_vals = [20, 21, 19, 20, 22, 19, 20]\n",
    "pd_mode = pd.Series(mode_vals)\n",
    "\n",
    "pd_mode.mode()"
   ]
  },
  {
   "cell_type": "code",
   "execution_count": null,
   "id": "f47e1ba6",
   "metadata": {},
   "outputs": [
    {
     "data": {
      "text/plain": [
       "count     7.000000\n",
       "mean      6.571429\n",
       "std       4.995236\n",
       "min       0.000000\n",
       "25%       3.000000\n",
       "50%       7.000000\n",
       "75%       9.500000\n",
       "max      14.000000\n",
       "dtype: float64"
      ]
     },
     "execution_count": 31,
     "metadata": {},
     "output_type": "execute_result"
    }
   ],
   "source": [
    "# Quick shortcut for getting everything\n",
    "pd.Series(values).describe()"
   ]
  },
  {
   "cell_type": "code",
   "execution_count": null,
   "id": "74407192",
   "metadata": {},
   "outputs": [],
   "source": []
  }
 ],
 "metadata": {
  "kernelspec": {
   "display_name": "base",
   "language": "python",
   "name": "python3"
  },
  "language_info": {
   "codemirror_mode": {
    "name": "ipython",
    "version": 3
   },
   "file_extension": ".py",
   "mimetype": "text/x-python",
   "name": "python",
   "nbconvert_exporter": "python",
   "pygments_lexer": "ipython3",
   "version": "3.12.2"
  }
 },
 "nbformat": 4,
 "nbformat_minor": 5
}
